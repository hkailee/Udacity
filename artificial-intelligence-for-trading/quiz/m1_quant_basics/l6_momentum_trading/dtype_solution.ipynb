{
 "cells": [
  {
   "cell_type": "markdown",
   "metadata": {},
   "source": [
    "## Imports"
   ]
  },
  {
   "cell_type": "code",
   "execution_count": null,
   "metadata": {},
   "outputs": [],
   "source": [
    "import numpy as np\n",
    "import project_tests"
   ]
  },
  {
   "cell_type": "markdown",
   "metadata": {},
   "source": [
    "## Quiz Solution"
   ]
  },
  {
   "cell_type": "code",
   "execution_count": null,
   "metadata": {},
   "outputs": [],
   "source": [
    "import project_tests\n",
    "\n",
    "\n",
    "def generate_positions(prices):\n",
    "    \"\"\"\n",
    "    Generate the following signals:\n",
    "     - Long 30 share of stock when the price is above 50 dollars\n",
    "     - Short 10 shares when it's below 20 dollars\n",
    "    \n",
    "    Parameters\n",
    "    ----------\n",
    "    prices : DataFrame\n",
    "        Prices for each ticker and date\n",
    "    \n",
    "    Returns\n",
    "    -------\n",
    "    final_positions : DataFrame\n",
    "        Final positions for each ticker and date\n",
    "    \"\"\"\n",
    "    # TODO: Implement Function\n",
    "    signal_long = (prices > 50).astype(np.int)\n",
    "    signal_short = (prices < 20).astype(np.int)\n",
    "    \n",
    "    pos_long = 30 * signal_long\n",
    "    pos_short = -10 * signal_short\n",
    "    \n",
    "    return pos_long + pos_short\n",
    "\n",
    "\n",
    "project_tests.test_generate_positions(generate_positions)"
   ]
  }
 ],
 "metadata": {
  "kernelspec": {
   "display_name": "Python 3",
   "language": "python",
   "name": "python3"
  },
  "language_info": {
   "codemirror_mode": {
    "name": "ipython",
    "version": 3
   },
   "file_extension": ".py",
   "mimetype": "text/x-python",
   "name": "python",
   "nbconvert_exporter": "python",
   "pygments_lexer": "ipython3",
   "version": "3.6.3"
  }
 },
 "nbformat": 4,
 "nbformat_minor": 2
}
