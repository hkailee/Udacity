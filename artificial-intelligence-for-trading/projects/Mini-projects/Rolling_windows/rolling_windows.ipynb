{
 "cells": [
  {
   "cell_type": "markdown",
   "metadata": {},
   "source": [
    "# Rolling Windows\n",
    "\n",
    "## Pandas.DataFrame.rolling\n",
    "\n",
    "\n",
    "You've just leared about rolling windows.  Let's see how we can use rolling function in pandas to create the rolling windows\n",
    "\n",
    "First, let's create a simple dataframe!\n"
   ]
  },
  {
   "cell_type": "code",
   "execution_count": 1,
   "metadata": {},
   "outputs": [
    {
     "data": {
      "text/plain": [
       "2018-10-10     0\n",
       "2018-10-11     1\n",
       "2018-10-12     2\n",
       "2018-10-13     3\n",
       "2018-10-14     4\n",
       "2018-10-15     5\n",
       "2018-10-16     6\n",
       "2018-10-17     7\n",
       "2018-10-18     8\n",
       "2018-10-19     9\n",
       "2018-10-20    10\n",
       "Freq: D, dtype: int64"
      ]
     },
     "execution_count": 1,
     "metadata": {},
     "output_type": "execute_result"
    }
   ],
   "source": [
    "import numpy as np\n",
    "import pandas as pd\n",
    "from datetime import datetime\n",
    "\n",
    "dates = pd.date_range(datetime.strptime('10/10/2018', '%m/%d/%Y'), periods=11, freq='D')\n",
    "close_prices = np.arange(len(dates))\n",
    "\n",
    "close = pd.Series(close_prices, dates)\n",
    "close"
   ]
  },
  {
   "cell_type": "markdown",
   "metadata": {},
   "source": [
    "Here, we will introduce rolling function from pandas.  The rolling function helps to provide rolling windows that can be customized through different parameters.  \n",
    "\n",
    "You can learn more about [rolling function here](https://pandas.pydata.org/pandas-docs/version/0.22/generated/pandas.DataFrame.rolling.html)\n",
    "\n",
    "Let's take a look at a quick sample.  "
   ]
  },
  {
   "cell_type": "code",
   "execution_count": 2,
   "metadata": {},
   "outputs": [
    {
     "data": {
      "text/plain": [
       "Rolling [window=3,center=False,axis=0]"
      ]
     },
     "execution_count": 2,
     "metadata": {},
     "output_type": "execute_result"
    }
   ],
   "source": [
    "close.rolling(window = 3)"
   ]
  },
  {
   "cell_type": "markdown",
   "metadata": {},
   "source": [
    "This returns a Rolling object. Just like what you've seen before, it's an intermediate object similar to the GroupBy object which breaks the original data into groups. That means, we'll have to apply an operation to these groups. Let's try with sum function."
   ]
  },
  {
   "cell_type": "code",
   "execution_count": 3,
   "metadata": {},
   "outputs": [
    {
     "data": {
      "text/plain": [
       "2018-10-10     NaN\n",
       "2018-10-11     NaN\n",
       "2018-10-12     3.0\n",
       "2018-10-13     6.0\n",
       "2018-10-14     9.0\n",
       "2018-10-15    12.0\n",
       "2018-10-16    15.0\n",
       "2018-10-17    18.0\n",
       "2018-10-18    21.0\n",
       "2018-10-19    24.0\n",
       "2018-10-20    27.0\n",
       "Freq: D, dtype: float64"
      ]
     },
     "execution_count": 3,
     "metadata": {},
     "output_type": "execute_result"
    }
   ],
   "source": [
    "close.rolling(window = 3).sum()"
   ]
  },
  {
   "cell_type": "markdown",
   "metadata": {},
   "source": [
    "The window parameter defines the size of the moving window. This is the number of observations used for calculating the statistics which is the \"sum\" in our case.\n",
    "\n",
    "For example, the output for 2018-10-12 is 3, which equals to the sum of the previous 3 data points, 0 + 1 + 2.\n",
    "Another example is 2018-10-20 is 27, which equals to 8+ 9 + 10\n",
    "\n",
    "Not just for summation, we can also apply other functions that we've learned in the previous lessons, such as max, min or even more.  \n",
    "\n",
    "Let's have a look at another quick example"
   ]
  },
  {
   "cell_type": "code",
   "execution_count": 4,
   "metadata": {},
   "outputs": [
    {
     "data": {
      "text/plain": [
       "2018-10-10    NaN\n",
       "2018-10-11    NaN\n",
       "2018-10-12    0.0\n",
       "2018-10-13    1.0\n",
       "2018-10-14    2.0\n",
       "2018-10-15    3.0\n",
       "2018-10-16    4.0\n",
       "2018-10-17    5.0\n",
       "2018-10-18    6.0\n",
       "2018-10-19    7.0\n",
       "2018-10-20    8.0\n",
       "Freq: D, dtype: float64"
      ]
     },
     "execution_count": 4,
     "metadata": {},
     "output_type": "execute_result"
    }
   ],
   "source": [
    "close.rolling(window = 3).min()"
   ]
  },
  {
   "cell_type": "markdown",
   "metadata": {},
   "source": [
    "Now, the output returns the minimum of the past three data points. \n",
    "\n",
    "By the way, have you noticed that we are getting NaN for close.rolling(window = 3).sum().  Since we are asking to calculate the mininum of the past 3 data points.  For 2018-10-10 and 2018-10-11, there are no enough data points in the past for our calculation, that's why we get NaN as outputs.  \n",
    "\n",
    "There are many other parameters you can play with for this rolling function, such as min_period or so.  Please refer to [the python documentation](https://pandas.pydata.org/pandas-docs/version/0.22/generated/pandas.DataFrame.rolling.html) for more details\n"
   ]
  },
  {
   "cell_type": "markdown",
   "metadata": {},
   "source": [
    "## Quiz: Calculate Simple Moving Average\n",
    "\n",
    "Through out the program, you will learn to generate alpha factors.  However, signals are always noisy.  A common practise from the industry is to smooth the factors by using simple moving average.  In this quiz, we can create a simple function that you can specify the rolling window and calculate the simple moving average of a time series.  "
   ]
  },
  {
   "cell_type": "code",
   "execution_count": 8,
   "metadata": {},
   "outputs": [
    {
     "name": "stdout",
     "output_type": "stream",
     "text": [
      "                   GIQU        SJRK           JZF          RYK         COA\n",
      "2009-06-16          nan         nan           nan          nan         nan\n",
      "2009-06-17          nan         nan           nan          nan         nan\n",
      "2009-06-18 173.01063518 22.30232250 1179.62640322 184.46511965 12.80843788\n",
      "2009-06-19 169.63334269 22.60058918 1184.23199044 184.87873990 11.99598671\n",
      "2009-06-20 167.98009915 21.95354197 1184.38273374  33.47776934 14.67532669\n",
      "2009-06-21  11.04680012 18.21317125   20.52709535  23.35331859 14.94211731\n",
      "Tests Passed\n"
     ]
    }
   ],
   "source": [
    "import quiz_tests\n",
    "\n",
    "def calculate_simple_moving_average(rolling_window, close):\n",
    "    \"\"\"\n",
    "    Compute the simple moving average.\n",
    "    \n",
    "    Parameters\n",
    "    ----------\n",
    "    rolling_window: int\n",
    "        Rolling window length\n",
    "    close : DataFrame\n",
    "        Close prices for each ticker and date\n",
    "    \n",
    "    Returns\n",
    "    -------\n",
    "    simple_moving_average : DataFrame\n",
    "        Simple moving average for each ticker and date\n",
    "    \"\"\"\n",
    "    # TODO: Implement Function\n",
    "    print(close.rolling(window = rolling_window).mean())\n",
    "    return close.rolling(window = rolling_window).mean()\n",
    "\n",
    "\n",
    "\n",
    "quiz_tests.test_calculate_simple_moving_average(calculate_simple_moving_average)"
   ]
  },
  {
   "cell_type": "markdown",
   "metadata": {},
   "source": [
    "## Quiz Solution\n",
    "If you're having trouble, you can check out the quiz solution [here](rolling_windows_solution.ipynb)."
   ]
  }
 ],
 "metadata": {
  "kernelspec": {
   "display_name": "Python 3",
   "language": "python",
   "name": "python3"
  },
  "language_info": {
   "codemirror_mode": {
    "name": "ipython",
    "version": 3
   },
   "file_extension": ".py",
   "mimetype": "text/x-python",
   "name": "python",
   "nbconvert_exporter": "python",
   "pygments_lexer": "ipython3",
   "version": "3.6.3"
  }
 },
 "nbformat": 4,
 "nbformat_minor": 2
}
