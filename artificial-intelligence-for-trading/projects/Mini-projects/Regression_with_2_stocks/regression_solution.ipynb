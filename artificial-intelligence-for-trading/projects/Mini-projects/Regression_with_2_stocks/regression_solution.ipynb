{
 "cells": [
  {
   "cell_type": "markdown",
   "metadata": {},
   "source": [
    "\n",
    "# Regression"
   ]
  },
  {
   "cell_type": "markdown",
   "metadata": {},
   "source": [
    "## Install packages"
   ]
  },
  {
   "cell_type": "code",
   "execution_count": null,
   "metadata": {
    "scrolled": true
   },
   "outputs": [],
   "source": [
    "import sys\n",
    "!{sys.executable} -m pip install -r requirements.txt"
   ]
  },
  {
   "cell_type": "code",
   "execution_count": null,
   "metadata": {},
   "outputs": [],
   "source": [
    "import pandas as pd\n",
    "import numpy as np\n",
    "import os\n",
    "import helper\n",
    "import quiz_tests\n",
    "import matplotlib.pyplot as plt"
   ]
  },
  {
   "cell_type": "code",
   "execution_count": null,
   "metadata": {},
   "outputs": [],
   "source": [
    "plt.style.use('ggplot')\n",
    "plt.rcParams['figure.figsize'] = (14, 8)"
   ]
  },
  {
   "cell_type": "markdown",
   "metadata": {},
   "source": [
    "## Simulate two stock prices\n"
   ]
  },
  {
   "cell_type": "code",
   "execution_count": null,
   "metadata": {},
   "outputs": [],
   "source": [
    "# just set the seed for the random number generator\n",
    "np.random.seed(100)\n",
    "# use returns to create a price series\n",
    "drift = 100\n",
    "r0 = pd.Series(np.random.normal(0, 1, 1000))\n",
    "s0 = pd.Series(np.cumsum(r0), name='s0') + drift\n",
    "\n",
    "noise1 = np.random.normal(0, 0.4, 1000)\n",
    "drift1 = 50\n",
    "r1 = r0 + noise1\n",
    "s1 = pd.Series(np.cumsum(r1), name='s1') + drift1\n",
    "\n",
    "noise2 = np.random.normal(0, 0.4, 1000)\n",
    "drift2 = 60\n",
    "r2 = r0 + noise2\n",
    "s2 = pd.Series(np.cumsum(r2), name='s2') + drift2\n",
    "\n",
    "pd.concat([s1, s2], axis=1).plot(figsize=(15,6))"
   ]
  },
  {
   "cell_type": "code",
   "execution_count": null,
   "metadata": {},
   "outputs": [],
   "source": [
    "from sklearn.linear_model import LinearRegression"
   ]
  },
  {
   "cell_type": "markdown",
   "metadata": {},
   "source": [
    "## Solution: Linear Regression\n",
    "\n",
    "Note that the LinearRegression().fit() expects 2D numpy arrays.  Since s1 and s2 are pandas series, we can use Series.values to get the values as a numpy array. Since these are 1D arrays, we can use numpy.reshape(-1,1) to make these 1000 row by 1 column 2 dimensional arrays.  \n",
    "\n",
    "The coefficients of the linear regression, $\\beta$ and $intercept$ for the regression line:  \n",
    "$y = \\beta \\times x + intercept$  \n",
    "Can be obtained after fitting to the data.  Use `LinearRegression.coef_[0][0]` for the slope and `LinearRegression.intercept_[0]` for the intercept."
   ]
  },
  {
   "cell_type": "code",
   "execution_count": null,
   "metadata": {},
   "outputs": [],
   "source": [
    "def regression_slope_and_intercept(xSeries, ySeries):\n",
    "    \"\"\"\n",
    "    xSeries: pandas series, x variable\n",
    "    ySeries: pandas series, y variable\n",
    "    \"\"\"\n",
    "    lr = LinearRegression()\n",
    "    #TODO: get the values from each series, reshape to be 2 dimensional\n",
    "    #set s1 to the x variable, s2 to the y variable\n",
    "    xVar = xSeries.values.reshape(-1,1)\n",
    "    yVar = ySeries.values.reshape(-1,1)\n",
    "    \n",
    "    #TODO: call LinearRegression.fit().  Pass in the x variable then y variable\n",
    "    lr.fit(xVar,yVar);\n",
    "    \n",
    "    #TODO: obtain the slope and intercept\n",
    "    slope = lr.coef_[0][0]\n",
    "    intercept = lr.intercept_[0]\n",
    "    \n",
    "    return (slope, intercept)\n",
    "\n",
    "quiz_tests.test_regression_slope_and_intercept(regression_slope_and_intercept);"
   ]
  },
  {
   "cell_type": "code",
   "execution_count": null,
   "metadata": {},
   "outputs": [],
   "source": [
    "slope, intercept = regression_slope_and_intercept(s1,s2);\n",
    "print(f\"slope {slope:.2f} and intercept {intercept:.2f}\")"
   ]
  }
 ],
 "metadata": {
  "kernelspec": {
   "display_name": "Python 3",
   "language": "python",
   "name": "python3"
  },
  "language_info": {
   "codemirror_mode": {
    "name": "ipython",
    "version": 3
   },
   "file_extension": ".py",
   "mimetype": "text/x-python",
   "name": "python",
   "nbconvert_exporter": "python",
   "pygments_lexer": "ipython3",
   "version": "3.6.3"
  }
 },
 "nbformat": 4,
 "nbformat_minor": 2
}
